{
 "cells": [
  {
   "cell_type": "markdown",
   "metadata": {},
   "source": [
    "# Python Tricks"
   ]
  },
  {
   "cell_type": "markdown",
   "metadata": {},
   "source": [
    "Bu bölümde öğreneceğimiz şeyler kodlarımızı yazarken bizlere oldukça büyük kolaylıklar sağlayacak. Normalde de yapabileceğimiz ancak uzun yollar kullanacağımız algoritmaları çok daha kısa ve hızlı çalışır biçimde yazmanın yollarını yani Python hilelerini öğreneceğiz."
   ]
  },
  {
   "cell_type": "markdown",
   "metadata": {},
   "source": [
    "## Değişken Atama"
   ]
  },
  {
   "cell_type": "markdown",
   "metadata": {},
   "source": [
    "Elimizde iki tane değişken olduğunu düşünelim. Bunlar a ve b olsun. Değişkenlerin değerleri birbirlerine aktarılmak isteniyorsa yani a nın tuttuğu değeri b ye, b nin tuttuğu değeri a  ya aktarmak istersek normalde şöyle bir yol izlerdik:"
   ]
  },
  {
   "cell_type": "code",
   "execution_count": 2,
   "metadata": {},
   "outputs": [
    {
     "name": "stdout",
     "output_type": "stream",
     "text": [
      "a: 5\n",
      "b: 10\n",
      "a: 10\n",
      "b: 5\n"
     ]
    }
   ],
   "source": [
    "a = 5\n",
    "b = 10\n",
    "\n",
    "print(\"a:\",a)\n",
    "print(\"b:\",b)\n",
    "\n",
    "tmp = a\n",
    "a = b\n",
    "b = tmp\n",
    "\n",
    "print(\"a:\",a)\n",
    "print(\"b:\",b)"
   ]
  },
  {
   "cell_type": "markdown",
   "metadata": {},
   "source": [
    "Gördüğünüz gibi böyle bir işlem için üçüncü bir değişkene ihtiyaç duyuluyor. Oysa Python programlama dilinde bu işlemleri yapmak için oldukça kolay bir yol bulunuyor. Aşağıda bu yola örnek bir ifade var."
   ]
  },
  {
   "cell_type": "code",
   "execution_count": 3,
   "metadata": {},
   "outputs": [
    {
     "name": "stdout",
     "output_type": "stream",
     "text": [
      "a: 10\n",
      "b: 5\n"
     ]
    }
   ],
   "source": [
    "a = 5\n",
    "b = 10\n",
    "a,b = b,a\n",
    "print(\"a:\",a)\n",
    "print(\"b:\",b)"
   ]
  },
  {
   "cell_type": "markdown",
   "metadata": {},
   "source": [
    "Üçüncü bir değişkene ihtiyaç duymadan kolayca değişkenlerin değerlerini birbirlerine aktardık."
   ]
  },
  {
   "cell_type": "markdown",
   "metadata": {},
   "source": [
    "Değişkenlere hızlıca değer atamak için kullanabileceğimiz bir başka yol daha var. İndekslenebilir veri türlerinden değişken değerleri oluşturmak oldukça kolay bir iştir. Örneğin;"
   ]
  },
  {
   "cell_type": "code",
   "execution_count": 15,
   "metadata": {},
   "outputs": [
    {
     "name": "stdout",
     "output_type": "stream",
     "text": [
      "x: 1\n",
      "y: 2\n",
      "z: 3\n"
     ]
    }
   ],
   "source": [
    "l = [1,2,3]\n",
    "x,y,z = l\n",
    "print(\"x:\",x)\n",
    "print(\"y:\",y)\n",
    "print(\"z:\",z)"
   ]
  },
  {
   "cell_type": "markdown",
   "metadata": {},
   "source": [
    "Görüldüğü üzere liste içindeki değerler sırasıyla değişkenlere aktarıldı. Bunun çalışabilmesi için değişken sayısı ile listenin içerdiği eleman sayısının aynı olması gerekiyor. Yani liste dört elemanlı olsaydı çalışmayacaktı."
   ]
  },
  {
   "cell_type": "markdown",
   "metadata": {},
   "source": [
    "İndekslenebilen tek veri tipi liste değil. Bu işlemi demetler ve karakter dizilerinde de yapabiliriz."
   ]
  },
  {
   "cell_type": "code",
   "execution_count": 12,
   "metadata": {},
   "outputs": [
    {
     "name": "stdout",
     "output_type": "stream",
     "text": [
      "a b c\n"
     ]
    }
   ],
   "source": [
    "k = \"abc\"\n",
    "x,y,z = k\n",
    "print(x,y,z)"
   ]
  },
  {
   "cell_type": "markdown",
   "metadata": {},
   "source": [
    "Hatırlarsanız for döngülerinde sıklıkla range() fonksiyonundan faydalanıyorduk. Bunun sebebi yine range() fonksiyonunun da belli bir yerden başlayıp belli bir noktaya kadar olan sayılardan indekslenebilen veri yapısı oluşturmasıdır. Yukarıdaki işlemi bir de range() için deneyelim."
   ]
  },
  {
   "cell_type": "code",
   "execution_count": 14,
   "metadata": {},
   "outputs": [
    {
     "name": "stdout",
     "output_type": "stream",
     "text": [
      "0 1\n"
     ]
    }
   ],
   "source": [
    "x,y = range(2)\n",
    "print(x,y)"
   ]
  },
  {
   "cell_type": "markdown",
   "metadata": {},
   "source": [
    "Artık tamamen eminiz, indekslenebilen her veri tipinde bu işlemi uygulayabiliriz. Ayrıca üçüncü bir değişkene ihtiyaç duymadan iki değişken arasında değer aktarımı yapabiliriz."
   ]
  },
  {
   "cell_type": "markdown",
   "metadata": {},
   "source": [
    "## ZİP()"
   ]
  },
  {
   "cell_type": "markdown",
   "metadata": {},
   "source": [
    "Elimizde iki adet liste olduğunu ve bu iki listenin de öğe sayılarının eşit olduğunu düşünelim. Bazen bu iki listeden de birer öğe çekip işlem yapmamız gerekiyor. Yani her iki listenin de aynı anda 0. indeksini, 1. indeksini... Bunu yapmak için aşağıdaki yöntemi tercih edenleriniz olabilir."
   ]
  },
  {
   "cell_type": "code",
   "execution_count": 16,
   "metadata": {},
   "outputs": [
    {
     "name": "stdout",
     "output_type": "stream",
     "text": [
      "1\n",
      "2\n",
      "3\n",
      "4\n",
      "5\n",
      "6\n"
     ]
    }
   ],
   "source": [
    "liste1 = [1,3,5]\n",
    "liste2 = [2,4,6]\n",
    "\n",
    "for i in range(len(liste1)):\n",
    "    print(liste1[i])\n",
    "    print(liste2[i])\n"
   ]
  },
  {
   "cell_type": "markdown",
   "metadata": {},
   "source": [
    "Ancak yukarıdaki yöntem ne kadar işe yarıyor olsa da uzun ve gereksiz karmaşıklığa sahip bir yöntem. Tamam, yukarıdaki kod elbette karmaşık değil ama biraz sonra yazacağımız kodun yanında karmaşık kalıyor."
   ]
  },
  {
   "cell_type": "code",
   "execution_count": 17,
   "metadata": {},
   "outputs": [
    {
     "name": "stdout",
     "output_type": "stream",
     "text": [
      "1\n",
      "2\n",
      "3\n",
      "4\n",
      "5\n",
      "6\n"
     ]
    }
   ],
   "source": [
    "liste1 = [1,3,5]\n",
    "liste2 = [2,4,6]\n",
    "\n",
    "for i,j in zip(liste1, liste2):\n",
    "    print(i)\n",
    "    print(j)"
   ]
  },
  {
   "cell_type": "markdown",
   "metadata": {},
   "source": [
    "<i>zip()</i> ile eşit sayıda öğeye sahip olan veri türlerini kullanabiliriz. Peki, tam olarak ne yapıyor bu <i>zip()</i> fonksiyonu? Fonksiyona verdiğimiz argümanları birleştiriyor. Örneğin yukarıdaki örnekte liste1 içinden 0. indeksi ve aynı şekilde liste2 içerisinden 0. indeksi alıp demet haline getiriyor. Eğer <i>zip()</i> fonksiyonuna üç argüman verilseydi <i>zip()</i> ile türetmiş olduğumuz veriler de üç elemanlı olurdu."
   ]
  },
  {
   "cell_type": "markdown",
   "metadata": {},
   "source": [
    "## Sözlükten Veri Okuma"
   ]
  },
  {
   "cell_type": "markdown",
   "metadata": {},
   "source": [
    "Sözlüklerden veri okuma işlemi yaparken çirkin bir görüntüye sahip kod yazıyor olabiliriz. Örnek kod üzerinden anlatalım. Düşünün ki yaş bilgilerini tutan bir sözlüğümüz var ve biz bu sözlükten herhangi bir kişinin yaşını öğrenmeye çalışıyoruz."
   ]
  },
  {
   "cell_type": "code",
   "execution_count": 23,
   "metadata": {},
   "outputs": [
    {
     "name": "stdout",
     "output_type": "stream",
     "text": [
      "Age: 22\n"
     ]
    }
   ],
   "source": [
    "ages = {\n",
    "    'Volkan':22,\n",
    "    'Murat':22,\n",
    "    'Doğukan':28\n",
    "}\n",
    "name = 'Volkan'\n",
    "if name in ages:\n",
    "    print(\"Age:\",ages[name])\n",
    "else:\n",
    "    print(\"Age: Unknown\")\n"
   ]
  },
  {
   "cell_type": "markdown",
   "metadata": {},
   "source": [
    "Yukarıdaki kod pekala çalışacaktır fakat sözlükten bir veri okumak için oldukça uzun bir yöntem olduğunu söyleyebiliriz. Oysa sözlük veri tipinde bulunan bir metot aracılığı ile bu işi tek satıra indirgeyebiliriz."
   ]
  },
  {
   "cell_type": "code",
   "execution_count": 29,
   "metadata": {},
   "outputs": [
    {
     "name": "stdout",
     "output_type": "stream",
     "text": [
      "Age: 22\n"
     ]
    }
   ],
   "source": [
    "ages = {\n",
    "    'Volkan':22,\n",
    "    'Murat':22,\n",
    "    'Doğukan':28\n",
    "}\n",
    "name = 'Volkan'\n",
    "print(\"Age:\",ages.get(name,'Unknown'))"
   ]
  },
  {
   "cell_type": "markdown",
   "metadata": {},
   "source": [
    "Biraz önce dört satırda yazdığımız şeyi tek satırda yazdık ve kodlarımız daha temiz bir görünüme sahip oldu. Unutmayın, karmaşıklıktan ne kadar uzak kod yazarsanız o kadar hızlı geliştirme yaparsınız."
   ]
  },
  {
   "cell_type": "markdown",
   "metadata": {},
   "source": [
    "## for ve else"
   ]
  },
  {
   "cell_type": "markdown",
   "metadata": {},
   "source": [
    "Bir koşul deyimi olan <i>else</i> for döngüsü ile birlikte kullanılabilir. Öncelikle kullanmadan nasıl bir iş yapıyoruz ve kullanırsak yapacağımız işi nasıl değiştiriyoruz görelim."
   ]
  },
  {
   "cell_type": "markdown",
   "metadata": {},
   "source": [
    "Döngü yardımı ile listeden, demetten ya da indekslenen herhangi bir veri türünden verileri sırayla çekebiliyoruz değil mi? Ve bazen bu verileri birtakım koşullara tabii tutuyoruz. Eğer istediğimiz koşul gerçekleşirse aranan öğe bulunduğu için bir değişken oluşturup değerine <i>True</i> diyoruz ve döngüyü kırıyoruz. Kodlar üzerinden ilerleyelim ki anlaşılır olsun."
   ]
  },
  {
   "cell_type": "code",
   "execution_count": 30,
   "metadata": {},
   "outputs": [
    {
     "name": "stdout",
     "output_type": "stream",
     "text": [
      "Bulundu!\n"
     ]
    }
   ],
   "source": [
    "liste = [1,2,3,4,5,6,7]\n",
    "flag = False\n",
    "\n",
    "for i in liste:\n",
    "    if i % 6 == 0:\n",
    "        flag = True\n",
    "        break\n",
    "\n",
    "if flag:\n",
    "    print(\"Bulundu!\")\n",
    "else:\n",
    "    print(\"Bulunamadı!\")"
   ]
  },
  {
   "cell_type": "markdown",
   "metadata": {},
   "source": [
    "Eğer aranan öğe bulunmasaydı <i>flag</i> değişkeninin değeri <i>False</i> olarak kalacaktı ve ekrana \"Bulunamadı!\" yazacaktı."
   ]
  },
  {
   "cell_type": "markdown",
   "metadata": {},
   "source": [
    "Yukarıdaki işlemi daha kısa ve daha anlaşılır şekilde yapmak mümkün. Örneğin <i>flag</i> değişkeni fazladan bir değişken. Oysa herhangi bir değişkene <i>True</i> ya da <i>False</i> gibi değerler atamadan bu işi yapabiliriz."
   ]
  },
  {
   "cell_type": "code",
   "execution_count": 33,
   "metadata": {},
   "outputs": [
    {
     "name": "stdout",
     "output_type": "stream",
     "text": [
      "Bulundu!\n"
     ]
    }
   ],
   "source": [
    "liste = [1,2,3,4,5,6,7]\n",
    "\n",
    "for i in liste:\n",
    "    if i % 6 == 0:\n",
    "        print(\"Bulundu!\")\n",
    "        break\n",
    "\n",
    "else:\n",
    "    print(\"Bulunamadı!\")\n",
    "    "
   ]
  },
  {
   "cell_type": "markdown",
   "metadata": {},
   "source": [
    "Eğer 6 sayısı listede yer almıyor olsaydı aşağıdaki gibi sonuç alacaktık."
   ]
  },
  {
   "cell_type": "code",
   "execution_count": 34,
   "metadata": {},
   "outputs": [
    {
     "name": "stdout",
     "output_type": "stream",
     "text": [
      "Bulunamadı!\n"
     ]
    }
   ],
   "source": [
    "liste = [1,2,3,4,5,7]\n",
    "\n",
    "for i in liste:\n",
    "    if i % 6 == 0:\n",
    "        print(\"Bulundu!\")\n",
    "        break\n",
    "\n",
    "else:\n",
    "    print(\"Bulunamadı!\")"
   ]
  },
  {
   "cell_type": "markdown",
   "metadata": {},
   "source": [
    "Tam olarak ne oldu burada, nasıl bir mantık işledi? Eğer döngü <i>break</i> ile kırılırsa <i>else</i> bloğu çalışmaz. Eğer döngü tamamlanmışsa ve kırılma işlemi olmamışsa döngüde istenilen sonuç gerçekleşmemiş demektir ve bu mantıkla <i>else</i> bloğu devreye girer."
   ]
  },
  {
   "cell_type": "markdown",
   "metadata": {},
   "source": [
    "## Dosya Okuma"
   ]
  },
  {
   "cell_type": "markdown",
   "metadata": {},
   "source": [
    "Dosyaları satır satır okurken birtakım metotlardan faydalanıyoruz ya da önce tamamını okuyup <i>split()</i> ile '\\n' kaçış dizisine bölüyoruz vs. Ama bunlardan çok daha pratik bir yol bulunuyor. Yine öncelikle kötü yolu görelim."
   ]
  },
  {
   "cell_type": "code",
   "execution_count": null,
   "metadata": {},
   "outputs": [],
   "source": [
    "with open('splitter.py') as f:\n",
    "    data = f.read()\n",
    "    lines = data.split('\\n')\n",
    "    \n",
    "    for i in lines:\n",
    "        print(i)"
   ]
  },
  {
   "cell_type": "code",
   "execution_count": null,
   "metadata": {},
   "outputs": [],
   "source": [
    "# veya yukarıdakine alternatif olarak\n",
    "\n",
    "with open('splitter.py') as f:\n",
    "    lines = f.readlines()\n",
    "    for i in lines:\n",
    "        print(i)\n"
   ]
  },
  {
   "cell_type": "markdown",
   "metadata": {},
   "source": [
    "Her iki yoldan daha kısa ve pratik olan bir yol daha var. Eğer for döngüsü kullanacaksak herhangi bir okuma metodu kullanmamıza gerek yok. Direkt olarak dosya objesini döngüde kullanabiliriz."
   ]
  },
  {
   "cell_type": "code",
   "execution_count": 36,
   "metadata": {},
   "outputs": [],
   "source": [
    "with open('splitter.py') as f:\n",
    "    for i in f:\n",
    "        print(i)"
   ]
  },
  {
   "cell_type": "markdown",
   "metadata": {},
   "source": [
    "Bu sayede dosyaları satırlara bölerken gereksiz satır yazmaktan kurtuluyoruz. Kodlarımızı ne kadar sade ve anlaşılır tutarsak o kadar iyi."
   ]
  },
  {
   "cell_type": "markdown",
   "metadata": {},
   "source": [
    "## Fonksiyonlarda Argüman Sınırını Aşmak"
   ]
  },
  {
   "cell_type": "markdown",
   "metadata": {},
   "source": [
    "Bir fonksiyona normalde en fazla 256 adet argüman verebiliriz. Hatırlıyorsunuz değil mi? Argümanın başına tek bir yıldız karakteri ekleyince sayısız isimsiz argüman alabiliyorduk. Fakat bunun bir sınırı var ve bu sınır 256. İsterseniz 257 adet rastgele isim oluşturup bir fonksiyona argüman olarak verip sonucu görebilirsiniz."
   ]
  },
  {
   "cell_type": "markdown",
   "metadata": {},
   "source": [
    "Ancak bu sınırı aşmanın da bir yolu var. Öğe sayısı 1000 olacak şekilde bir liste oluşturalım ve bu listenin tüm öğelerini fonksiyona argüman olarak gönderelim."
   ]
  },
  {
   "cell_type": "code",
   "execution_count": 1,
   "metadata": {},
   "outputs": [],
   "source": [
    "l = [i for i in range(1000)]\n",
    "\n",
    "def func(*args):\n",
    "    pass\n",
    "\n",
    "func(*l)"
   ]
  },
  {
   "cell_type": "markdown",
   "metadata": {},
   "source": [
    "Kodu çalıştırdığınız zaman herhangi bir hata almayacaksınız. Çünkü bu yolla bir fonksiyona sayısız argüman gönderebiliyoruz."
   ]
  }
 ],
 "metadata": {
  "kernelspec": {
   "display_name": "Python 3",
   "language": "python",
   "name": "python3"
  },
  "language_info": {
   "codemirror_mode": {
    "name": "ipython",
    "version": 3
   },
   "file_extension": ".py",
   "mimetype": "text/x-python",
   "name": "python",
   "nbconvert_exporter": "python",
   "pygments_lexer": "ipython3",
   "version": "3.7.1"
  }
 },
 "nbformat": 4,
 "nbformat_minor": 2
}
